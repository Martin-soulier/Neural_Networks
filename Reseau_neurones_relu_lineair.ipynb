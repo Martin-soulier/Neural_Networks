{
 "cells": [
  {
   "cell_type": "code",
   "execution_count": null,
   "metadata": {},
   "outputs": [],
   "source": [
    "import numpy as np"
   ]
  },
  {
   "cell_type": "code",
   "execution_count": null,
   "metadata": {},
   "outputs": [],
   "source": [
    "def initialisation(dimension):\n",
    "    parametres = {}\n",
    "    C = len(dimension)\n",
    "    \n",
    "    for c in range(1,C):\n",
    "        parametres['W' + str(c)] = np.random.randn(dimension[c-1], dimension[c])\n",
    "        parametres['b' + str(c)] = np.random.randn(1, dimension[c])\n",
    "    \n",
    "    return parametres"
   ]
  },
  {
   "cell_type": "code",
   "execution_count": null,
   "metadata": {},
   "outputs": [],
   "source": [
    "def relu(tab):\n",
    "    for i in range(len(tab[0])):\n",
    "        if tab[0][i] < 0:\n",
    "            tab[0][i] = 0\n",
    "    return tab"
   ]
  },
  {
   "cell_type": "code",
   "execution_count": null,
   "metadata": {},
   "outputs": [],
   "source": [
    "def forward_propagation(etat, parametres):\n",
    "    C = len(parametres) // 2\n",
    "    activation = {'A0' : etat}\n",
    "\n",
    "    Z = {}\n",
    "    for c in range(1, C+1):\n",
    "        Z[c] = (activation['A' + str(c-1)].dot(parametres['W' + str(c)])) + parametres['b' + str(c)]\n",
    "        if c != C:\n",
    "            A = relu(np.copy(Z[c]))\n",
    "        else:\n",
    "            A = np.copy(Z[c])\n",
    "        activation['A' + str(c)] = A\n",
    "        \n",
    "    return activation, Z"
   ]
  },
  {
   "cell_type": "code",
   "execution_count": null,
   "metadata": {},
   "outputs": [],
   "source": [
    "def derive_relu(tab):\n",
    "    for i in range(len(tab[0])):\n",
    "        if tab[0][i] > 0:\n",
    "            tab[0][i] = 1\n",
    "        else:\n",
    "            tab[0][i] = 0\n",
    "    return None"
   ]
  },
  {
   "cell_type": "code",
   "execution_count": null,
   "metadata": {},
   "outputs": [],
   "source": [
    "def back_propagation(y, activation, Z, parametres):\n",
    "\n",
    "    C = len(parametres) // 2\n",
    "    dZ = 2*(activation['A' + str(C)]-y)\n",
    "    gradients = {}\n",
    "    \n",
    "    for c in reversed(range(1, C+1)):\n",
    "        gradients['dW' + str(c)] = (activation['A' + str(c-1)].T).dot(dZ)\n",
    "        gradients['db' + str(c)] = dZ\n",
    "        \n",
    "        if c > 1:\n",
    "            derive_relu(Z[c-1])\n",
    "            dZ = dZ.dot((parametres['W'+str(c)].T)) * Z[c-1]\n",
    "    return gradients"
   ]
  },
  {
   "cell_type": "code",
   "execution_count": null,
   "metadata": {},
   "outputs": [],
   "source": [
    "def update(gradients, parametres, learning_rate):\n",
    "\n",
    "    C = len(parametres) // 2\n",
    "    for c in range(1, C+1):\n",
    "        parametres['W' + str(c)] = parametres['W' + str(c)] - learning_rate * gradients['dW' + str(c)]\n",
    "        parametres['b' + str(c)] = parametres['b' + str(c)] - learning_rate * gradients['db' + str(c)]\n",
    "    \n",
    "    return parametres"
   ]
  }
 ],
 "metadata": {
  "kernelspec": {
   "display_name": "Python 3.9.13 64-bit (microsoft store)",
   "language": "python",
   "name": "python3"
  },
  "language_info": {
   "name": "python",
   "version": "3.9.13"
  },
  "orig_nbformat": 4,
  "vscode": {
   "interpreter": {
    "hash": "973dae269d00b6b558ee602948d450f530f53da865da3b7f2332913837ce45f7"
   }
  }
 },
 "nbformat": 4,
 "nbformat_minor": 2
}
